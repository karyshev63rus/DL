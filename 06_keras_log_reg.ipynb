{
 "cells": [
  {
   "cell_type": "code",
   "execution_count": 1,
   "metadata": {},
   "outputs": [
    {
     "name": "stderr",
     "output_type": "stream",
     "text": [
      "Using TensorFlow backend.\n"
     ]
    }
   ],
   "source": [
    "import warnings # импортируем библиотеку для подавления уведомлений\n",
    "warnings.filterwarnings('ignore')\n",
    "# импортируем библиотеки для создания модели логистической регрессии\n",
    "import numpy as np\n",
    "from keras.models import Sequential\n",
    "from keras.layers import Input, Dense, Activation"
   ]
  },
  {
   "cell_type": "code",
   "execution_count": 2,
   "metadata": {},
   "outputs": [],
   "source": [
    "# создаем модель вида Sequential - это значит, что модель будет создаваться\n",
    "# последовательно слой за слоем\n",
    "logr = Sequential()\n",
    "\n",
    "# создаем один плотный слой, входы которого будут размерности два, а на выходе\n",
    "# будет логистический сигмоид от входов; это и есть модель логистической\n",
    "# регрессии: линейная функция с обучаемыми весами от входов, а затем\n",
    "# логистический сигмоид от результата\n",
    "logr.add(Dense(1, input_dim=2, activation='sigmoid'))\n",
    "\n",
    "# модель компилируется с заданной целевой функцией и метрикой точности, которая\n",
    "# будет подсчитываться и выводиться в процессе оптимизации; в качестве алгоритма \n",
    "# указан простой стохастический градиентный спуск\n",
    "logr.compile(loss='binary_crossentropy', optimizer='sgd', metrics=['accuracy'])"
   ]
  },
  {
   "cell_type": "code",
   "execution_count": 3,
   "metadata": {},
   "outputs": [],
   "source": [
    "# Определяем функцию создания случайной выборки на основе нормального закона \n",
    "def sampler(n, x, y):\n",
    "    return np.random.normal(size=[n, 2]) + [x, y]"
   ]
  },
  {
   "cell_type": "code",
   "execution_count": 4,
   "metadata": {},
   "outputs": [],
   "source": [
    "# Определяем функцию создания матрицы (nx4) двух двумерных нормальных распределений\n",
    "# с разными центрами и матрицу (nx2) меток классов этих распределений\n",
    "def sample_data(n=1000, p0=(-1., -1.), p1=(1., 1.)):\n",
    "    zeros, ones = np.zeros((n, 1)), np.ones((n, 1)) # матрицы [nx1] меток классов\n",
    "    labels = np.vstack([zeros, ones]) # объединение матриц меток классов в матрицу [nx2]\n",
    "    z_sample = sampler(n, x=p0[0], y=p0[1]) # матрица распределения с меткой '0'\n",
    "    o_sample = sampler(n, x=p1[0], y=p1[1]) # матрица распределения с меткой '1'\n",
    "    return np.vstack([z_sample, o_sample]), labels # функция возвращает\n",
    "# объединенную матрицу [nx4] распределений '0' и '1', а также матрицу [nx2] меток"
   ]
  },
  {
   "cell_type": "code",
   "execution_count": 5,
   "metadata": {},
   "outputs": [],
   "source": [
    "# Генеруруем наборы данных: тренировочный (2000 точек, по 1000 на каждый класс) \n",
    "# и тестовый (200 отдельных точек, по 100 на каждый класс)\n",
    "X_train, Y_train = sample_data()\n",
    "X_test, Y_test = sample_data()"
   ]
  },
  {
   "cell_type": "code",
   "execution_count": 6,
   "metadata": {},
   "outputs": [
    {
     "name": "stdout",
     "output_type": "stream",
     "text": [
      "Train on 2000 samples, validate on 2000 samples\n",
      "Epoch 1/5\n",
      "2000/2000 [==============================] - 1s 620us/step - loss: 0.9088 - acc: 0.4520 - val_loss: 0.6133 - val_acc: 0.6570\n",
      "Epoch 2/5\n",
      "2000/2000 [==============================] - 0s 67us/step - loss: 0.4775 - acc: 0.7715 - val_loss: 0.3932 - val_acc: 0.8490\n",
      "Epoch 3/5\n",
      "2000/2000 [==============================] - 0s 67us/step - loss: 0.3542 - acc: 0.8685 - val_loss: 0.3133 - val_acc: 0.8895\n",
      "Epoch 4/5\n",
      "2000/2000 [==============================] - 0s 68us/step - loss: 0.3027 - acc: 0.8935 - val_loss: 0.2741 - val_acc: 0.9070\n",
      "Epoch 5/5\n",
      "2000/2000 [==============================] - 0s 66us/step - loss: 0.2751 - acc: 0.9055 - val_loss: 0.2511 - val_acc: 0.9140\n"
     ]
    },
    {
     "data": {
      "text/plain": [
       "<keras.callbacks.History at 0x37d4f98>"
      ]
     },
     "execution_count": 6,
     "metadata": {},
     "output_type": "execute_result"
    }
   ],
   "source": [
    "# Осуществляем процесс обучения модели логистической регрессии, для чего \n",
    "# предвательно задаем тренировочный набор, число эпох и размер мини-батча\n",
    "logr.fit(X_train, Y_train, batch_size=16, epochs=5, verbose=1, validation_data=(X_test, Y_test))"
   ]
  }
 ],
 "metadata": {
  "kernelspec": {
   "display_name": "Python 3",
   "language": "python",
   "name": "python3"
  },
  "language_info": {
   "codemirror_mode": {
    "name": "ipython",
    "version": 3
   },
   "file_extension": ".py",
   "mimetype": "text/x-python",
   "name": "python",
   "nbconvert_exporter": "python",
   "pygments_lexer": "ipython3",
   "version": "3.7.3"
  }
 },
 "nbformat": 4,
 "nbformat_minor": 2
}
